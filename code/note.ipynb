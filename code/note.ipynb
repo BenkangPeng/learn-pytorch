{
 "cells": [
  {
   "cell_type": "markdown",
   "id": "0c7026a7-04c8-40ef-b41f-ea41a83c20b8",
   "metadata": {},
   "source": [
    "### 排错集锦\n",
    "##### CondaError: Run 'conda init' before 'conda activate'\n",
    "\n",
    "```shell\n",
    "$ conda activate ML\n",
    "CondaError: Run 'conda init' before 'conda activate'\n",
    "\n",
    "$ source activate\n",
    "(base) \n",
    "\n",
    "$ conda activate ML\n",
    "(ML) \n",
    "```\n",
    "\n",
    "好像是`windows`上的问题，使用`activate`之前要`source activate`一次\n",
    "\n",
    "##### 导入matplotlib时报DLL load fail的错误\n",
    "\n",
    "```shell\n",
    "from . import _imaging as core\n",
    "ImportError: DLL load failed while importing _imaging: The specified module could not be found\n",
    "```\n",
    "\n",
    "* `pillow`版本问题，重新安装更低版本的`pillow`:\n",
    "\n",
    "```shell\n",
    "conda uninstall pillow\n",
    "conda ### 安装pytorch\n",
    "可以到`pytorch`官网查看安装命令  [link](https://pytorch.org/get-started/locally/)\n",
    "安装`pytorch`的同时会安装`cuda`，因为`pytorch`会调用`cuda`利用`gpu`进行计算\n",
    "安装`cuda`时要注意适配版本install pillow==8.0.0\n",
    "```\n",
    "\n"
   ]
  },
  {
   "cell_type": "markdown",
   "id": "7bd1ec5b-a6aa-4d1f-b580-5b04e817ee86",
   "metadata": {},
   "source": [
    "### Lecture02 Linear Model"
   ]
  },
  {
   "cell_type": "code",
   "execution_count": 2,
   "id": "8a9f7e6a-ba9d-4035-aeef-af69dfcc8398",
   "metadata": {},
   "outputs": [
    {
     "data": {
      "image/png": "[encoded data removed]",
      "text/plain": [
       "<Figure size 640x480 with 1 Axes>"
      ]
     },
     "metadata": {},
     "output_type": "display_data"
    }
   ],
   "source": [
    "import numpy as np\n",
    "import matplotlib.pyplot as plt\n",
    "\n",
    "\n",
    "x = [1 , 2 , 3]\n",
    "y = [2 , 4 , 6]\n",
    "\n",
    "def forward(w , x):\n",
    "    return w * x\n",
    "\n",
    "def loss(w , x , y):\n",
    "    y_pred = w * x\n",
    "\n",
    "    return (y_pred - y) ** 2\n",
    "\n",
    "\n",
    "w_list = []\n",
    "loss_list = []\n",
    "for w in np.arange(0 , 4.1 , 0.1):\n",
    "\n",
    "    loss_sum = 0\n",
    "    w_list.append(w)\n",
    "\n",
    "    for _x , _y  in zip(x , y):\n",
    "        loss_sum += loss(w , _x , _y)\n",
    "\n",
    "    loss_list.append(loss_sum / len(x))\n",
    "\n",
    "plt.plot(w_list , loss_list)\n",
    "plt.ylabel('loss')\n",
    "plt.xlabel('w')\n",
    "plt.show()"
   ]
  },
  {
   "cell_type": "markdown",
   "id": "bee30a11-c69f-4c2c-8ca0-865a11ad258a",
   "metadata": {},
   "source": [
    "### Lecture03 Gradient descend\n",
    "\n",
    "梯度下降：$w = w - \\alpha * \\frac{\\partial cost(w)}{\\partial w}$ , $\\frac{\\partial cost(w)}{\\partial w} = \\frac{1}{N} \\sum_{n=1}^{N} 2 * x_n * (w * x_n - y_n)$"
   ]
  },
  {
   "cell_type": "code",
   "execution_count": 3,
   "id": "9df49e4c-4915-4465-b942-70135a8c6f8a",
   "metadata": {},
   "outputs": [
    {
     "name": "stdout",
     "output_type": "stream",
     "text": [
      "w =  2.0\n"
     ]
    }
   ],
   "source": [
    "import matplotlib.pyplot as plt\n",
    "\n",
    "x = [1 , 2 , 3]\n",
    "y = [2 , 4 , 6]\n",
    "\n",
    "def forward(w , x):\n",
    "    return w * x\n",
    "\n",
    "def cost(w , x_s , y_s):\n",
    "    cost = 0\n",
    "    for _x , _y in zip(x,y):\n",
    "        y_pred = forward(w , _x)\n",
    "        cost += (y_pred - _y) ** 2\n",
    "    \n",
    "    return cost / len(x_s)\n",
    "\n",
    "def gradient(w , x_s , y_s):\n",
    "    \n",
    "    grad = 0\n",
    "    for _x , _y in zip(x,y):\n",
    "        grad += 2 * _x * (w * _x - _y)\n",
    "    \n",
    "    grad /= len(x_s)\n",
    "    return grad\n",
    "\n",
    "w = 0\n",
    "a = 0.1 # 学习率\n",
    "\n",
    "for epoch in range(0 , 100):\n",
    "    \n",
    "    cost_val = cost(w , x , y)\n",
    "    grad = gradient(w , x , y)\n",
    "    w -= a * grad\n",
    "\n",
    "\n",
    "print('w = ' , w)"
   ]
  },
  {
   "cell_type": "markdown",
   "id": "0f594e68-3881-4848-9aa6-d117641d32a2",
   "metadata": {},
   "source": [
    "**随机梯度下降：**\n",
    "对每一个数求梯度\n",
    "$w = w - \\alpha * \\frac{\\partial loss}{\\partial w}$ , $\\frac{\\partial loss_n}{\\partial w} = 2 * x_n * (w * x_n - y_n)$"
   ]
  },
  {
   "cell_type": "code",
   "execution_count": 4,
   "id": "105afa1a-4650-43a9-b4e3-24ead080fe33",
   "metadata": {},
   "outputs": [
    {
     "name": "stdout",
     "output_type": "stream",
     "text": [
      "w =  2.0\n"
     ]
    }
   ],
   "source": [
    "x = [1 , 2 , 3]\n",
    "y = [2 , 4 , 6]\n",
    "\n",
    "def forward(w , x):\n",
    "    return w * x\n",
    "\n",
    "\n",
    "def gradient(w , _x , _y):\n",
    "    y_pred = forward(w , _x)\n",
    "    return 2 * _x * (w * _x - _y)\n",
    "\n",
    "\n",
    "\n",
    "a = 0.1 #学习率\n",
    "w = 0\n",
    "for epoch in range(100):\n",
    "    for _x , _y in zip(x , y):\n",
    "        grad = gradient(w , _x , _y)\n",
    "        w -= a * grad\n",
    "\n",
    "print('w = ' , w)"
   ]
  },
  {
   "cell_type": "markdown",
   "id": "528c7e89-69ae-4300-8839-54ac22e13a86",
   "metadata": {},
   "source": [
    "### Back Propagation"
   ]
  },
  {
   "cell_type": "code",
   "execution_count": null,
   "id": "8b7eb6cf-457d-40df-98b8-b8e6fa9f89df",
   "metadata": {},
   "outputs": [],
   "source": [
    "import torch\n",
    "x_data = [1 , 2 , 3]\n",
    "y_data = [2 , 4 , 6]\n",
    "\n",
    "w = torch.tensor([1.0] , requires_grad = True)\n",
    "\n",
    "def forward(x):\n",
    "    return w * x\n",
    "\n",
    "def loss(x , y):\n",
    "    y_pred = w * x\n",
    "    return (y_pred - y) ** 2\n",
    "\n",
    "\n",
    "print(\"Predict (before training)\" , 4 , forward(4).item())\n",
    "\n",
    "for epoch in range(100):\n",
    "    for x , y  in zip(x_data , y_data):\n",
    "        l = loss(x , y)\n",
    "        l.backward() #梯度存在对应的变量(权重)w中,具体来说是w.grad.data中\n",
    "\n",
    "        print(\"\\tgrad:\" , x , y , w.grad.item() , w.data) # .item()是标量\n",
    "        w.data = w.data - 0.01 * w.grad.data #w.data是w的值，w.grad.data是w梯度的值\n",
    "\n",
    "        w.grad.data.zero_() #每次需要将w.grad.data置零，因为pytorch会默认将权重梯度累加\n",
    "\n",
    "    print(\"Progress: \" , epoch , l.item())\n",
    "\n",
    "# print(type(w) , type(w.grad) , type(w.data) , type(w.grad.data) , type(w.grad.item()))\n",
    "# print(w , w.grad , w.data , w.grad.data , w.grad.item() )\n",
    "print(\"Predict(after training): \" , 4 , forward(4).item())"
   ]
  },
  {
   "cell_type": "code",
   "execution_count": 29,
   "id": "5a6202e4-8deb-462f-b733-83d0fa501cbd",
   "metadata": {},
   "outputs": [
    {
     "name": "stdout",
     "output_type": "stream",
     "text": [
      "1.9999996423721313\n"
     ]
    }
   ],
   "source": [
    "import torch\n",
    "\n",
    "x_data = [1 , 2 , 3]\n",
    "y_data = [2 , 4 , 6]\n",
    "\n",
    "def forward(w , x):\n",
    "    return w * x\n",
    "\n",
    "def loss(w , x , y):\n",
    "    y_pred = w * x\n",
    "    return (y_pred - y) ** 2\n",
    "\n",
    "w = torch.tensor([1.0] , requires_grad = True)\n",
    "\n",
    "for epoch in range(100):\n",
    "    for x , y in zip(x_data , y_data):\n",
    "        l = loss(w , x , y)\n",
    "        l.backward()\n",
    "        w.data -= 0.01 * w.grad.data\n",
    "\n",
    "        w.grad.data.zero_()\n",
    "\n",
    "print(w.data.item())"
   ]
  },
  {
   "cell_type": "markdown",
   "id": "1f16d3c9-371b-4354-88ce-56675b8b051d",
   "metadata": {},
   "source": [
    "预测$y = w_1x^2 + w_2x + 3$\n",
    "\n",
    "$x_{data} = [1 , 2 , 3]$ \n",
    "\n",
    "$y_{data} = [6 , 11 , 18]$"
   ]
  },
  {
   "cell_type": "code",
   "execution_count": 27,
   "id": "d0298207-38f5-4c86-90f1-1db8d83dad6e",
   "metadata": {},
   "outputs": [
    {
     "name": "stdout",
     "output_type": "stream",
     "text": [
      " device = cuda:0 , w1 = 0.9676660299301147 , w2 = 2.216028928756714 , forward(4) = 27.346771240234375\n"
     ]
    }
   ],
   "source": [
    "import torch\n",
    "\n",
    "device = torch.device(\"cuda:0\" if torch.cuda.is_available() else \"cpu\")\n",
    "\n",
    "x_data = torch.tensor([1 , 2 , 3 , 5 , 6 , 7] , device=device)\n",
    "y_data = torch.tensor([6 , 11 , 19 , 38 , 51 , 66] , device=device) \n",
    "\n",
    "w1 = torch.tensor([0.] , requires_grad = True , device=device)\n",
    "w2 = torch.tensor([0.] , requires_grad = True , device=device)\n",
    "a  = 0.0001\n",
    "turns = 10000\n",
    "\n",
    "def forward(w1 , w2 , x):\n",
    "    y_pred = w1 * x ** 2 + w2 * x + 3\n",
    "    return y_pred.to(device)\n",
    "\n",
    "def loss(w1 , w2 , x , y):\n",
    "    y_pred = forward(w1 , w2 , x)\n",
    "    return (y_pred - y) ** 2\n",
    "\n",
    "for epoch in range(turns):\n",
    "    for x , y in zip(x_data , y_data):\n",
    "        l = loss(w1 , w2 , x , y)\n",
    "\n",
    "        l.backward()\n",
    "\n",
    "        w1.data -= a * w1.grad.data\n",
    "        w2.data -= a * w2.grad.data\n",
    "\n",
    "        w1.grad.data.zero_()\n",
    "        w2.grad.data.zero_()\n",
    "    \n",
    "    \n",
    "print(f' device = {device} , w1 = {w1.data.item()} , w2 = {w2.data.item()} , forward(4) = {forward(w1 , w2 , 4).data.item()}')\n",
    "\n"
   ]
  },
  {
   "attachments": {},
   "cell_type": "markdown",
   "id": "d5eeddc4",
   "metadata": {},
   "source": [
    "### pytorch 实现线性回归\n",
    "* 准备数据\n",
    "* 设计model类\n",
    "* 构造损失函数和优化器\n",
    "* 循环训练"
   ]
  },
  {
   "cell_type": "code",
   "execution_count": 45,
   "id": "dd7e10db",
   "metadata": {},
   "outputs": [
    {
     "name": "stderr",
     "output_type": "stream",
     "text": [
      "d:\\software\\anaconda3\\envs\\ML\\lib\\site-packages\\torch\\nn\\_reduction.py:42: UserWarning: size_average and reduce args will be deprecated, please use reduction='sum' instead.\n",
      "  warnings.warn(warning.format(ret))\n"
     ]
    },
    {
     "name": "stdout",
     "output_type": "stream",
     "text": [
      "0 95.7431640625\n",
      "100 0.029077215120196342\n",
      "200 0.006837148219347\n",
      "300 0.001607678015716374\n",
      "400 0.0003780184779316187\n",
      "500 8.889101445674896e-05\n",
      "600 2.0899517039651982e-05\n",
      "700 4.914240889775101e-06\n",
      "800 1.1555289347597864e-06\n",
      "900 2.7161559046362527e-07\n",
      "w =  1.9998303651809692\n",
      "b =  0.00038553617196157575\n",
      "y_pred =  7.999707221984863\n"
     ]
    }
   ],
   "source": [
    "import torch\n",
    "\n",
    "\n",
    "x_data = torch.tensor([[1] , [2] , [3]] , dtype=torch.float32)\n",
    "y_data = torch.tensor([[2] , [4] , [6]] , dtype=torch.float32)#显式声明数据类型，避免类型自动推导产生数据类型不匹配的错误\n",
    "\n",
    "class LinearModel(torch.nn.Module):\n",
    "    def __init__(self):\n",
    "        super(LinearModel , self).__init__()\n",
    "        self.linear = torch.nn.Linear(1 , 1)\n",
    "\n",
    "    def forward(self , x):\n",
    "        y_pred = self.linear(x)\n",
    "        return y_pred\n",
    "    \n",
    "\n",
    "model = LinearModel()\n",
    "\n",
    "criterion = torch.nn.MSELoss(size_average=False)\n",
    "optimizer = torch.optim.SGD(model.parameters() , lr = 0.01)\n",
    "\n",
    "for epoch in range(1000):\n",
    "    y_pred = model(x_data) #model内定义了__call__ , model(x_data)调用的是forward()\n",
    "    loss = criterion(y_pred , y_data)\n",
    "    if epoch % 100 == 0:\n",
    "        print(epoch , loss.item())\n",
    "\n",
    "    \n",
    "    loss.backward()\n",
    "    optimizer.step()\n",
    "    optimizer.zero_grad() \n",
    "\n",
    "print(\"w = \" , model.linear.weight.item())   \n",
    "print(\"b = \" , model.linear.bias.item())\n",
    "\n",
    "\n",
    "x_test = torch.tensor([[4.0]])\n",
    "y_test = model(x_test)\n",
    "print(\"y_pred = \" , y_test.data.item())\n"
   ]
  },
  {
   "cell_type": "code",
   "execution_count": null,
   "id": "187c87d4",
   "metadata": {},
   "outputs": [],
   "source": []
  }
 ],
 "metadata": {
  "kernelspec": {
   "display_name": "Python 3 (ipykernel)",
   "language": "python",
   "name": "python3"
  },
  "language_info": {
   "codemirror_mode": {
    "name": "ipython",
    "version": 3
   },
   "file_extension": ".py",
   "mimetype": "text/x-python",
   "name": "python",
   "nbconvert_exporter": "python",
   "pygments_lexer": "ipython3",
   "version": "3.8.19"
  }
 },
 "nbformat": 4,
 "nbformat_minor": 5
}
